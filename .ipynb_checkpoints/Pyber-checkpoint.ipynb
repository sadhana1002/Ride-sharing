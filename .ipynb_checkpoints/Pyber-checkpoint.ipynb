{
 "cells": [
  {
   "cell_type": "markdown",
   "metadata": {},
   "source": [
    "# Pyber Ride Sharing\n",
    "\n"
   ]
  },
  {
   "cell_type": "markdown",
   "metadata": {},
   "source": [
    "1. Pyber is most popular among drivers and riders in Urban cities, followed by Suburban.\n",
    "2. Pyber is comparitively cheaper in Urban regions.\n",
    "3. Number of drivers is correlated to number of rides in the city."
   ]
  },
  {
   "cell_type": "code",
   "execution_count": 1,
   "metadata": {
    "collapsed": true
   },
   "outputs": [],
   "source": [
    "import os\n",
    "import pandas as pd\n",
    "import numpy as np\n",
    "import matplotlib\n",
    "import matplotlib.pyplot as plt\n",
    "\n",
    "plt.style.use(\"seaborn\")"
   ]
  },
  {
   "cell_type": "code",
   "execution_count": 2,
   "metadata": {
    "collapsed": true
   },
   "outputs": [],
   "source": [
    "city_filename = os.path.join('raw_data','city_data.csv')\n",
    "ride_filename = os.path.join('raw_data','ride_data.csv')"
   ]
  },
  {
   "cell_type": "code",
   "execution_count": 3,
   "metadata": {
    "collapsed": true
   },
   "outputs": [],
   "source": [
    "city_df = pd.read_csv(city_filename)\n",
    "ride_df = pd.read_csv(ride_filename)\n",
    "rideshares_df = ride_df.merge(city_df,on=\"city\")\n",
    "\n",
    "rideshares_df['date'] = pd.to_datetime(rideshares_df['date'])\n"
   ]
  },
  {
   "cell_type": "markdown",
   "metadata": {},
   "source": [
    "# City Summary "
   ]
  },
  {
   "cell_type": "code",
   "execution_count": 4,
   "metadata": {},
   "outputs": [
    {
     "data": {
      "text/html": [
       "<div>\n",
       "<style>\n",
       "    .dataframe thead tr:only-child th {\n",
       "        text-align: right;\n",
       "    }\n",
       "\n",
       "    .dataframe thead th {\n",
       "        text-align: left;\n",
       "    }\n",
       "\n",
       "    .dataframe tbody tr th {\n",
       "        vertical-align: top;\n",
       "    }\n",
       "</style>\n",
       "<table border=\"1\" class=\"dataframe\">\n",
       "  <thead>\n",
       "    <tr style=\"text-align: right;\">\n",
       "      <th></th>\n",
       "      <th>city</th>\n",
       "      <th>driver_count</th>\n",
       "      <th>type</th>\n",
       "      <th>Total Rides (per City)</th>\n",
       "      <th>Average Fare ($)</th>\n",
       "      <th>Total Fare ($)</th>\n",
       "    </tr>\n",
       "  </thead>\n",
       "  <tbody>\n",
       "    <tr>\n",
       "      <th>0</th>\n",
       "      <td>Alvarezhaven</td>\n",
       "      <td>21</td>\n",
       "      <td>Urban</td>\n",
       "      <td>31</td>\n",
       "      <td>23.928710</td>\n",
       "      <td>741.79</td>\n",
       "    </tr>\n",
       "    <tr>\n",
       "      <th>1</th>\n",
       "      <td>Alyssaberg</td>\n",
       "      <td>67</td>\n",
       "      <td>Urban</td>\n",
       "      <td>26</td>\n",
       "      <td>20.609615</td>\n",
       "      <td>535.85</td>\n",
       "    </tr>\n",
       "    <tr>\n",
       "      <th>2</th>\n",
       "      <td>Anitamouth</td>\n",
       "      <td>16</td>\n",
       "      <td>Suburban</td>\n",
       "      <td>9</td>\n",
       "      <td>37.315556</td>\n",
       "      <td>335.84</td>\n",
       "    </tr>\n",
       "    <tr>\n",
       "      <th>3</th>\n",
       "      <td>Antoniomouth</td>\n",
       "      <td>21</td>\n",
       "      <td>Urban</td>\n",
       "      <td>22</td>\n",
       "      <td>23.625000</td>\n",
       "      <td>519.75</td>\n",
       "    </tr>\n",
       "    <tr>\n",
       "      <th>4</th>\n",
       "      <td>Aprilchester</td>\n",
       "      <td>49</td>\n",
       "      <td>Urban</td>\n",
       "      <td>19</td>\n",
       "      <td>21.981579</td>\n",
       "      <td>417.65</td>\n",
       "    </tr>\n",
       "  </tbody>\n",
       "</table>\n",
       "</div>"
      ],
      "text/plain": [
       "           city  driver_count      type  Total Rides (per City)  \\\n",
       "0  Alvarezhaven            21     Urban                      31   \n",
       "1    Alyssaberg            67     Urban                      26   \n",
       "2    Anitamouth            16  Suburban                       9   \n",
       "3  Antoniomouth            21     Urban                      22   \n",
       "4  Aprilchester            49     Urban                      19   \n",
       "\n",
       "   Average Fare ($)  Total Fare ($)  \n",
       "0         23.928710          741.79  \n",
       "1         20.609615          535.85  \n",
       "2         37.315556          335.84  \n",
       "3         23.625000          519.75  \n",
       "4         21.981579          417.65  "
      ]
     },
     "execution_count": 4,
     "metadata": {},
     "output_type": "execute_result"
    }
   ],
   "source": [
    "city_group = rideshares_df.groupby([\"city\",\"driver_count\",\"type\"])\n",
    "\n",
    "city_summary = pd.DataFrame()\n",
    "city_summary[\"Total Rides (per City)\"] = city_group[\"ride_id\"].count()\n",
    "city_summary[\"Average Fare ($)\"] = city_group[\"fare\"].mean()\n",
    "city_summary[\"Total Fare ($)\"] = city_group[\"fare\"].sum()\n",
    "city_summary = city_summary.reset_index()\n",
    "\n",
    "\n",
    "city_summary.head()"
   ]
  },
  {
   "cell_type": "markdown",
   "metadata": {},
   "source": [
    "# Bubble Plot Of Ride Sharing Data"
   ]
  },
  {
   "cell_type": "code",
   "execution_count": 5,
   "metadata": {},
   "outputs": [
    {
     "data": {
      "text/plain": [
       "<matplotlib.text.Text at 0x155bca15978>"
      ]
     },
     "execution_count": 5,
     "metadata": {},
     "output_type": "execute_result"
    }
   ],
   "source": [
    "colors = {\"Urban\":\"lightsalmon\",\"Suburban\":\"deepskyblue\",\"Rural\":\"yellow\"}\n",
    "\n",
    "scatter_plot_df = city_summary[[\"Total Rides (per City)\",\"Average Fare ($)\",\"type\"]]\n",
    "\n",
    "urban_set = city_summary[city_summary.type == \"Urban\"]\n",
    "suburb_set = city_summary[city_summary.type == \"Suburban\"]\n",
    "rural_set = city_summary[city_summary.type == \"Rural\"]\n",
    "handles = []\n",
    "\n",
    "\n",
    "\n",
    "ax = urban_set.plot(kind=\"scatter\",\n",
    "                   x=\"Total Rides (per City)\",y=\"Average Fare ($)\",\n",
    "                   edgecolor='k',\n",
    "                   s=city_summary.driver_count*5,\n",
    "                   color=\"lightsalmon\",\n",
    "                   label=\"Urban\")\n",
    "suburb_set.plot(kind=\"scatter\",\n",
    "               x=\"Total Rides (per City)\",y=\"Average Fare ($)\",\n",
    "               edgecolor='k',\n",
    "               s=city_summary.driver_count*5,\n",
    "               color=\"deepskyblue\",\n",
    "               label=\"Suburban\",\n",
    "               ax=ax)\n",
    "rural_set.plot(kind=\"scatter\",x=\"Total Rides (per City)\",y=\"Average Fare ($)\",\n",
    "               edgecolor='k',\n",
    "               s=city_summary.driver_count*5,\n",
    "               color=\"yellow\",\n",
    "               label=\"Rural\",\n",
    "               ax=ax)\n",
    "\n",
    "plt.legend(title=\"City types\")\n",
    "\n",
    "plt.xlabel(\"Total Rides (per City)\")\n",
    "\n",
    "plt.ylabel(\"Average Fare ($)\")\n",
    "\n",
    "plt.title(\"PyBer RideSharing Data(2016)\")\n",
    "\n",
    "plt.text(37,35,\"Note:\\nCircle size correlates with number of drivers per city\")"
   ]
  },
  {
   "cell_type": "code",
   "execution_count": null,
   "metadata": {},
   "outputs": [
    {
     "data": {
      "image/png": "[encoded data removed]",
      "text/plain": [
       "<matplotlib.figure.Figure at 0x155bc81d550>"
      ]
     },
     "metadata": {},
     "output_type": "display_data"
    }
   ],
   "source": [
    "plt.show()"
   ]
  },
  {
   "cell_type": "code",
   "execution_count": null,
   "metadata": {},
   "outputs": [],
   "source": [
    "city_type_group = city_summary.groupby(\"type\")\n",
    "\n",
    "city_type_summary = pd.DataFrame()\n",
    "\n",
    "city_type_summary[\"Total Rides\"] = city_type_group[\"Total Rides (per City)\"].sum()\n",
    "city_type_summary[\"Total Drivers\"] = city_type_group[\"driver_count\"].sum()\n",
    "city_type_summary[\"Total Fare ($)\"] = city_type_group[\"Total Fare ($)\"].sum()\n",
    "city_type_summary.reset_index(inplace=True)\n",
    "city_type_summary.head()"
   ]
  },
  {
   "cell_type": "markdown",
   "metadata": {},
   "source": [
    "# Rides by City Type"
   ]
  },
  {
   "cell_type": "code",
   "execution_count": null,
   "metadata": {},
   "outputs": [],
   "source": [
    "explode_dict = {\"Urban\":0.1,\"Suburban\":0,\"Rural\":0}\n",
    "city_type_summary[\"explode\"] = [explode_dict[x] for x in city_type_summary[\"type\"]]\n",
    "city_type_summary[\"colors\"] = [colors[x] for x in city_type_summary[\"type\"]]\n",
    "\n",
    "city_type_summary.plot(kind=\"pie\",y=\"Total Rides\", autopct='%1.1f%%',\n",
    " startangle=140, shadow=False,explode=city_type_summary.explode,\n",
    "                       colors=city_type_summary.colors,labels=city_type_summary.type,\n",
    "                      wedgeprops = { 'linewidth' : 1 , 'edgecolor' : 'lightgrey'})\n",
    "\n",
    "plt.axis('off')\n",
    "plt.axis('equal')\n",
    "\n",
    "plt.title('% of Total Rides by City Type')\n",
    "\n",
    "plt.show()"
   ]
  },
  {
   "cell_type": "markdown",
   "metadata": {},
   "source": [
    "# Drivers by City Type"
   ]
  },
  {
   "cell_type": "code",
   "execution_count": null,
   "metadata": {},
   "outputs": [],
   "source": [
    "city_type_summary.plot(kind=\"pie\",y=\"Total Drivers\", autopct='%1.1f%%',\n",
    " startangle=140, shadow=False,explode=city_type_summary.explode,\n",
    "                       colors=city_type_summary.colors,labels=city_type_summary.type,\n",
    "                      wedgeprops = { 'linewidth' : 1 , 'edgecolor' : 'lightgrey'})\n",
    "\n",
    "plt.axis('off')\n",
    "plt.axis('equal')\n",
    "\n",
    "plt.title('% of Total Drivers by City Type')\n",
    "\n",
    "plt.show()"
   ]
  },
  {
   "cell_type": "markdown",
   "metadata": {},
   "source": [
    "# Fare by City Type"
   ]
  },
  {
   "cell_type": "code",
   "execution_count": null,
   "metadata": {},
   "outputs": [],
   "source": [
    "city_type_summary.plot(kind=\"pie\",y=\"Total Fare ($)\", autopct='%1.1f%%',\n",
    " startangle=140, shadow=False,explode=city_type_summary.explode,\n",
    "                       colors=city_type_summary.colors,labels=city_type_summary.type,\n",
    "                      wedgeprops = { 'linewidth' : 1 , 'edgecolor' : 'lightgrey'})\n",
    "\n",
    "plt.axis('off')\n",
    "plt.axis('equal')\n",
    "\n",
    "plt.title('% of Total Fare ($) by City Type')\n",
    "\n",
    "plt.show()"
   ]
  },
  {
   "cell_type": "code",
   "execution_count": null,
   "metadata": {},
   "outputs": [],
   "source": [
    "city_summary.sort_values(['Average Fare ($)'],ascending=[False])"
   ]
  },
  {
   "cell_type": "code",
   "execution_count": null,
   "metadata": {
    "collapsed": true
   },
   "outputs": [],
   "source": []
  }
 ],
 "metadata": {
  "kernelspec": {
   "display_name": "Python 3",
   "language": "python",
   "name": "python3"
  },
  "language_info": {
   "codemirror_mode": {
    "name": "ipython",
    "version": 3
   },
   "file_extension": ".py",
   "mimetype": "text/x-python",
   "name": "python",
   "nbconvert_exporter": "python",
   "pygments_lexer": "ipython3",
   "version": "3.6.2"
  }
 },
 "nbformat": 4,
 "nbformat_minor": 2
}
